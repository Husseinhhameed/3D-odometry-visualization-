{
 "cells": [
  {
   "cell_type": "markdown",
   "id": "5f890b67",
   "metadata": {},
   "source": [
    "# Import Open3d"
   ]
  },
  {
   "cell_type": "code",
   "execution_count": 1,
   "id": "abedc65d",
   "metadata": {},
   "outputs": [
    {
     "name": "stdout",
     "output_type": "stream",
     "text": [
      "Jupyter environment detected. Enabling Open3D WebVisualizer.\n",
      "[Open3D INFO] WebRTC GUI backend enabled.\n",
      "[Open3D INFO] WebRTCWindowSystem: HTTP handshake server disabled.\n"
     ]
    }
   ],
   "source": [
    "import numpy as np\n",
    "import open3d as o3d\n",
    "from scipy.spatial.transform import Rotation"
   ]
  },
  {
   "cell_type": "markdown",
   "id": "b417778b",
   "metadata": {},
   "source": [
    "# Plot the trajectory as a single line"
   ]
  },
  {
   "cell_type": "code",
   "execution_count": 2,
   "id": "b8f27d52",
   "metadata": {},
   "outputs": [],
   "source": [
    "def plot_trajectory_from_csv(odometry_csv_path):\n",
    "    \"\"\"\n",
    "    Reads camera poses from an odometry CSV file and plots the trajectory.\n",
    "    \n",
    "    Parameters:\n",
    "    - odometry_csv_path: str, path to the odometry CSV file containing the camera poses.\n",
    "    \"\"\"\n",
    "    # Read odometry data\n",
    "    odometry = np.loadtxt(odometry_csv_path, delimiter=',', skiprows=1)\n",
    "    poses = []\n",
    "\n",
    "    # Convert quaternion to rotation matrix and construct poses\n",
    "    for line in odometry:\n",
    "        position = line[2:5]\n",
    "        quaternion = line[5:]\n",
    "        T_WC = np.eye(4)\n",
    "        T_WC[:3, :3] = Rotation.from_quat(quaternion).as_matrix()\n",
    "        T_WC[:3, 3] = position\n",
    "        poses.append(T_WC)\n",
    "\n",
    "    # Create line sets for trajectory\n",
    "    line_sets = []\n",
    "    previous_pose = None\n",
    "    for T_WC in poses:\n",
    "        if previous_pose is not None:\n",
    "            points = o3d.utility.Vector3dVector([previous_pose[:3, 3], T_WC[:3, 3]])\n",
    "            lines = o3d.utility.Vector2iVector([[0, 1]])\n",
    "            line_set = o3d.geometry.LineSet(points=points, lines=lines)\n",
    "            line_sets.append(line_set)\n",
    "        previous_pose = T_WC\n",
    "\n",
    "    # Visualize the trajectory\n",
    "    o3d.visualization.draw_geometries(line_sets)\n"
   ]
  },
  {
   "cell_type": "code",
   "execution_count": 3,
   "id": "93464264",
   "metadata": {},
   "outputs": [],
   "source": [
    "plot_trajectory_from_csv(\"C:\\\\Users\\\\hosse\\\\odometry.csv\")\n"
   ]
  },
  {
   "cell_type": "markdown",
   "id": "d4537702",
   "metadata": {},
   "source": [
    "# Plot trajectory with Start and Endpoint \n",
    "Start Point: The start point is marked with a red sphere.\n",
    "End Point: The end point is marked with a green sphere."
   ]
  },
  {
   "cell_type": "code",
   "execution_count": 4,
   "id": "f4b1c23c",
   "metadata": {},
   "outputs": [],
   "source": [
    "def plot_trajectory_from_csv_and_show_start_end(odometry_csv_path):\n",
    "    \"\"\"\n",
    "    Reads camera poses from an odometry CSV file, plots the trajectory, and marks the start and end points.\n",
    "    \n",
    "    Parameters:\n",
    "    - odometry_csv_path: str, path to the odometry CSV file containing the camera poses.\n",
    "    \"\"\"\n",
    "    # Read odometry data\n",
    "    odometry = np.loadtxt(odometry_csv_path, delimiter=',', skiprows=1)\n",
    "    poses = []\n",
    "\n",
    "    # Convert quaternion to rotation matrix and construct poses\n",
    "    for line in odometry:\n",
    "        position = line[2:5]\n",
    "        quaternion = line[5:]\n",
    "        T_WC = np.eye(4)\n",
    "        T_WC[:3, :3] = Rotation.from_quat(quaternion).as_matrix()\n",
    "        T_WC[:3, 3] = position\n",
    "        poses.append(T_WC)\n",
    "\n",
    "    # Create line sets for trajectory\n",
    "    line_sets = []\n",
    "    previous_pose = None\n",
    "    for T_WC in poses:\n",
    "        if previous_pose is not None:\n",
    "            points = o3d.utility.Vector3dVector([previous_pose[:3, 3], T_WC[:3, 3]])\n",
    "            lines = o3d.utility.Vector2iVector([[0, 1]])\n",
    "            line_set = o3d.geometry.LineSet(points=points, lines=lines)\n",
    "            line_sets.append(line_set)\n",
    "        previous_pose = T_WC\n",
    "\n",
    "    # Create spheres for start and end points\n",
    "    start_sphere = o3d.geometry.TriangleMesh.create_sphere(radius=0.1)\n",
    "    start_sphere.paint_uniform_color([1, 0, 0])  # Red\n",
    "    start_sphere.translate(poses[0][:3, 3])\n",
    "\n",
    "    end_sphere = o3d.geometry.TriangleMesh.create_sphere(radius=0.1)\n",
    "    end_sphere.paint_uniform_color([0, 1, 0])  # Green\n",
    "    end_sphere.translate(poses[-1][:3, 3])\n",
    "\n",
    "    # Visualize the trajectory along with start and end markers\n",
    "    o3d.visualization.draw_geometries(line_sets + [start_sphere, end_sphere])\n"
   ]
  },
  {
   "cell_type": "code",
   "execution_count": 5,
   "id": "d47e2cd4",
   "metadata": {},
   "outputs": [],
   "source": [
    "plot_trajectory_from_csv_and_show_start_end(\"C:\\\\Users\\\\hosse\\\\odometry.csv\")\n"
   ]
  },
  {
   "cell_type": "markdown",
   "id": "866532ef",
   "metadata": {},
   "source": [
    "# Plot trajectory with angel of camera at each point"
   ]
  },
  {
   "cell_type": "code",
   "execution_count": 6,
   "id": "8b2e347d",
   "metadata": {},
   "outputs": [],
   "source": [
    "import numpy as np\n",
    "import open3d as o3d\n",
    "from scipy.spatial.transform import Rotation\n",
    "\n",
    "def plot_trajectory_orientation_and_markers(odometry_csv_path, interval=1):\n",
    "    \"\"\"\n",
    "    Reads camera poses from an odometry CSV file, plots the trajectory, marks the start and end points, and visualizes the camera orientation at intervals.\n",
    "    \n",
    "    Parameters:\n",
    "    - odometry_csv_path: str, path to the odometry CSV file containing the camera poses.\n",
    "    - interval: int, interval between poses to show orientation.\n",
    "    \"\"\"\n",
    "    # Read odometry data\n",
    "    odometry = np.loadtxt(odometry_csv_path, delimiter=',', skiprows=1)\n",
    "    poses = []\n",
    "\n",
    "    # Convert quaternion to rotation matrix and construct poses\n",
    "    for line in odometry:\n",
    "        position = line[2:5]\n",
    "        quaternion = line[5:]\n",
    "        T_WC = np.eye(4)\n",
    "        T_WC[:3, :3] = Rotation.from_quat(quaternion).as_matrix()\n",
    "        T_WC[:3, 3] = position\n",
    "        poses.append(T_WC)\n",
    "\n",
    "    # Create line sets for trajectory\n",
    "    line_sets = []\n",
    "    previous_pose = None\n",
    "    for T_WC in poses:\n",
    "        if previous_pose is not None:\n",
    "            points = o3d.utility.Vector3dVector([previous_pose[:3, 3], T_WC[:3, 3]])\n",
    "            lines = o3d.utility.Vector2iVector([[0, 1]])\n",
    "            line_set = o3d.geometry.LineSet(points=points, lines=lines)\n",
    "            line_sets.append(line_set)\n",
    "        previous_pose = T_WC\n",
    "\n",
    "    # Create spheres for start and end points\n",
    "    start_sphere = o3d.geometry.TriangleMesh.create_sphere(radius=0.05)\n",
    "    start_sphere.paint_uniform_color([1, 0, 0])  # Red\n",
    "    start_sphere.translate(poses[0][:3, 3])\n",
    "\n",
    "    end_sphere = o3d.geometry.TriangleMesh.create_sphere(radius=0.05)\n",
    "    end_sphere.paint_uniform_color([0, 1, 0])  # Green\n",
    "    end_sphere.translate(poses[-1][:3, 3])\n",
    "\n",
    "    # Visualize orientation\n",
    "    frames = []\n",
    "    for i, pose in enumerate(poses):\n",
    "        if i % interval == 0:\n",
    "            frame = o3d.geometry.TriangleMesh.create_coordinate_frame(size=0.1, origin=[0, 0, 0])\n",
    "            frame.transform(pose)\n",
    "            frames.append(frame)\n",
    "\n",
    "    # Visualize the trajectory along with start, end markers, and orientation frames\n",
    "    o3d.visualization.draw_geometries(line_sets + [start_sphere, end_sphere] + frames)\n",
    "\n",
    "\n"
   ]
  },
  {
   "cell_type": "code",
   "execution_count": null,
   "id": "ba78b1c3",
   "metadata": {},
   "outputs": [],
   "source": [
    "plot_trajectory_orientation_and_markers(\"C:\\\\Users\\\\hosse\\\\odometry.csv\", interval=1)"
   ]
  },
  {
   "cell_type": "code",
   "execution_count": null,
   "id": "91d26233",
   "metadata": {},
   "outputs": [],
   "source": []
  }
 ],
 "metadata": {
  "kernelspec": {
   "display_name": "Python 3 (ipykernel)",
   "language": "python",
   "name": "python3"
  },
  "language_info": {
   "codemirror_mode": {
    "name": "ipython",
    "version": 3
   },
   "file_extension": ".py",
   "mimetype": "text/x-python",
   "name": "python",
   "nbconvert_exporter": "python",
   "pygments_lexer": "ipython3",
   "version": "3.11.5"
  }
 },
 "nbformat": 4,
 "nbformat_minor": 5
}
